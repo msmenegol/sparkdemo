{
 "cells": [
  {
   "cell_type": "markdown",
   "id": "08bf8544-6b91-4714-bb4f-60a733df3cde",
   "metadata": {},
   "source": [
    "# Queens Trips\n",
    "### On this example, we'll take a look at how long the taxi trips that originated in the borough of Queens took"
   ]
  },
  {
   "cell_type": "markdown",
   "id": "9df52ca3-77a3-4a1d-a1d4-8710e5c16951",
   "metadata": {},
   "source": [
    "#### First, let's set up our environment and connections"
   ]
  },
  {
   "cell_type": "code",
   "execution_count": null,
   "id": "ca62c653-702a-4e1e-9d51-f790fdd05947",
   "metadata": {},
   "outputs": [],
   "source": [
    "from pyspark.sql import SparkSession\n",
    "from pyspark.sql.functions import percentile_approx, count"
   ]
  },
  {
   "cell_type": "code",
   "execution_count": null,
   "id": "6ca405dc-b2cb-424a-9dd6-ad8dc5420694",
   "metadata": {},
   "outputs": [],
   "source": [
    "db_url = \"jdbc:postgresql://demo_db:5432/demo_db\"\n",
    "properties = {\n",
    "    \"user\": \"user\",\n",
    "    \"password\": \"shhh_its_a_secret\",\n",
    "    \"driver\": \"org.postgresql.Driver\"\n",
    "}"
   ]
  },
  {
   "cell_type": "code",
   "execution_count": null,
   "id": "d160028c-accc-411a-b61a-7fedf5dc4160",
   "metadata": {},
   "outputs": [],
   "source": [
    "spark = SparkSession.builder.config(\"spark.jars\", \"/opt/spark_jars/postgresql-42.7.1.jar\"). \\\n",
    "    master(\"spark://spark-master:7077\").getOrCreate()"
   ]
  },
  {
   "cell_type": "markdown",
   "id": "28ce9ba8-537b-4136-b86b-b8001a8e9bd3",
   "metadata": {},
   "source": [
    "#### There are two tables in the database: taxi trips and locations"
   ]
  },
  {
   "cell_type": "code",
   "execution_count": null,
   "id": "488c2c0e-afd8-4462-b29e-61096f8a118a",
   "metadata": {},
   "outputs": [],
   "source": [
    "locations = spark.read.jdbc(db_url, 'locations', properties = properties)\n",
    "taxi_trips = spark.read.jdbc(db_url, 'taxi_trips', properties = properties)"
   ]
  },
  {
   "cell_type": "code",
   "execution_count": null,
   "id": "1f264c41-1828-4586-b919-8c9033b2806f",
   "metadata": {},
   "outputs": [],
   "source": [
    "queens_ids = locations.filter(locations['borough'] == 'Queens')"
   ]
  },
  {
   "cell_type": "code",
   "execution_count": null,
   "id": "c466c406-4d9c-419e-89c7-a47d3303d5ef",
   "metadata": {},
   "outputs": [],
   "source": [
    "queens_trips = taxi_trips.join(\n",
    "    queens_ids.withColumnRenamed('id', 'pickup_location_id'),\n",
    "    'pickup_location_id'\n",
    ").select(taxi_trips.columns)"
   ]
  },
  {
   "cell_type": "markdown",
   "id": "7148b601-7fb6-405d-afe2-0a89664672d9",
   "metadata": {},
   "source": [
    "#### How many rows do we have after that?"
   ]
  },
  {
   "cell_type": "code",
   "execution_count": null,
   "id": "359950b6-7350-4b06-b63c-35ae8ee30067",
   "metadata": {},
   "outputs": [],
   "source": [
    "queens_trips.count()"
   ]
  },
  {
   "cell_type": "markdown",
   "id": "3f354063-1337-44d0-807f-47c101d713cd",
   "metadata": {},
   "source": [
    "#### Alright, that's a lot. we'd better keep operating inside spark as much as we can.\n",
    "#### Let's check those trip times"
   ]
  },
  {
   "cell_type": "code",
   "execution_count": null,
   "id": "4395bcc7-8644-4678-9f0b-3f1dca61281b",
   "metadata": {},
   "outputs": [],
   "source": [
    "queens_trips = queens_trips.withColumn(\n",
    "    'trip_duration_minutes',\n",
    "    (queens_trips['dropoff_ts'].cast('long') - queens_trips['pickup_ts'].cast('long')) / 60\n",
    ")"
   ]
  },
  {
   "cell_type": "code",
   "execution_count": null,
   "id": "c4935720-5b71-49eb-bbf3-dc4e24e56e3f",
   "metadata": {},
   "outputs": [],
   "source": [
    "queens_trips.select('trip_duration_minutes').summary().show()"
   ]
  },
  {
   "cell_type": "markdown",
   "id": "16d9036a-dda3-4a04-a40f-fd46f5f161a2",
   "metadata": {},
   "source": [
    "#### Looks like we have some outliers. Trips that take negative time and at least one that took almost 24h. Let's take them out."
   ]
  },
  {
   "cell_type": "code",
   "execution_count": null,
   "id": "130fdb90-26eb-41c5-9f73-baad84efc7b2",
   "metadata": {},
   "outputs": [],
   "source": [
    "queens_trips = queens_trips.filter(queens_trips['trip_duration_minutes'] > 0)"
   ]
  },
  {
   "cell_type": "code",
   "execution_count": null,
   "id": "a16f78c6-aa5e-47a6-b140-4e7d78ee7dc6",
   "metadata": {},
   "outputs": [],
   "source": [
    "perc_99 = queens_trips.select(percentile_approx('trip_duration_minutes', 0.99)).collect()[0][0]"
   ]
  },
  {
   "cell_type": "code",
   "execution_count": null,
   "id": "c9deeb79-3c74-4cec-93e9-6ab77dec7dc3",
   "metadata": {},
   "outputs": [],
   "source": [
    "perc_99"
   ]
  },
  {
   "cell_type": "code",
   "execution_count": null,
   "id": "4532ba7b-20e1-4567-9941-385d9720b3bc",
   "metadata": {},
   "outputs": [],
   "source": [
    "queens_trips = queens_trips.filter(queens_trips['trip_duration_minutes'] < perc_99) "
   ]
  },
  {
   "cell_type": "markdown",
   "id": "6582bafb-c41d-4dd1-a1af-c886a7cb5cd7",
   "metadata": {},
   "source": [
    "#### Let's check that summary again"
   ]
  },
  {
   "cell_type": "code",
   "execution_count": null,
   "id": "c0f92755-2371-441c-a093-f6077cb8abc8",
   "metadata": {},
   "outputs": [],
   "source": [
    "queens_trips.select('trip_duration_minutes').summary().show()"
   ]
  },
  {
   "cell_type": "markdown",
   "id": "e97c27c3-c04e-49d2-9e1e-eb139e3dd421",
   "metadata": {},
   "source": [
    "#### Much nicer. Let's plot the distribution"
   ]
  },
  {
   "cell_type": "code",
   "execution_count": null,
   "id": "839e5d04-a3a1-41f6-a506-e9575333cbe7",
   "metadata": {},
   "outputs": [],
   "source": [
    "queens_trips.select('trip_duration_minutes').toPandas().hist(bins = 20)"
   ]
  },
  {
   "cell_type": "markdown",
   "id": "521a28c8-993f-46a0-b635-0e89644cc81d",
   "metadata": {},
   "source": [
    "#### Most of the trips are below 20 minutes. Let's check that per destination."
   ]
  },
  {
   "cell_type": "code",
   "execution_count": null,
   "id": "8d1c3580-21f1-41d1-a826-733568f124bd",
   "metadata": {},
   "outputs": [],
   "source": [
    "queens_trips_cols = queens_trips.columns"
   ]
  },
  {
   "cell_type": "code",
   "execution_count": null,
   "id": "ec604b80-3501-4932-a5db-69fc532386d2",
   "metadata": {},
   "outputs": [],
   "source": [
    "queens_trips = queens_trips.join(\n",
    "    locations.withColumnRenamed('id', 'dropoff_location_id'),\n",
    "    'dropoff_location_id'\n",
    ").withColumnRenamed(\n",
    "    'borough',\n",
    "    'dropoff_borough'\n",
    ").select(queens_trips_cols + ['dropoff_borough'])"
   ]
  },
  {
   "cell_type": "code",
   "execution_count": null,
   "id": "801dc043-6f66-454d-9f87-f1b640132fca",
   "metadata": {},
   "outputs": [],
   "source": [
    "queens_trips.select('dropoff_borough').distinct().show()"
   ]
  },
  {
   "cell_type": "code",
   "execution_count": null,
   "id": "5001f82d-929f-4fcc-8677-7b030a68df64",
   "metadata": {},
   "outputs": [],
   "source": [
    "queens_trips.groupBy('dropoff_borough').agg(count('*').alias('n_trips')).show()"
   ]
  },
  {
   "cell_type": "code",
   "execution_count": null,
   "id": "ed14f4be-495d-46eb-9657-3c02895a3054",
   "metadata": {},
   "outputs": [],
   "source": [
    "queens_trips.select(\n",
    "    'dropoff_borough',\n",
    "    'trip_duration_minutes'\n",
    ").toPandas().boxplot(by = 'dropoff_borough', showmeans = True)"
   ]
  },
  {
   "cell_type": "markdown",
   "id": "830a162a-861e-485a-b76d-c5432c36f9a3",
   "metadata": {},
   "source": [
    "#### It seems that EWR and Staten Island are the furthest people go form Queens\n",
    "#### Also, a lot of outliers inside Queens? Are those drivers driving in circles, trying to take advantage of some poor tourists? Or maybe those are all traffic jams?"
   ]
  },
  {
   "cell_type": "markdown",
   "id": "01ea8039-802e-4e74-bb3f-4b778be257cf",
   "metadata": {},
   "source": [
    "#### Anyway, that's good enough for now.\n",
    "#### Never forget to close your spark sessions after you're done!"
   ]
  },
  {
   "cell_type": "code",
   "execution_count": null,
   "id": "449587fd-ab03-4fef-ac51-971f3ac9312e",
   "metadata": {},
   "outputs": [],
   "source": [
    "spark.stop()"
   ]
  },
  {
   "cell_type": "markdown",
   "id": "ea195f6c-ecf4-442e-b39a-40f83b55a77b",
   "metadata": {},
   "source": [
    "#### That's it for this demo!"
   ]
  },
  {
   "cell_type": "code",
   "execution_count": null,
   "id": "7a1bef38-71f2-4cf6-a275-f0606479de41",
   "metadata": {},
   "outputs": [],
   "source": []
  }
 ],
 "metadata": {
  "kernelspec": {
   "display_name": "Python 3 (ipykernel)",
   "language": "python",
   "name": "python3"
  },
  "language_info": {
   "codemirror_mode": {
    "name": "ipython",
    "version": 3
   },
   "file_extension": ".py",
   "mimetype": "text/x-python",
   "name": "python",
   "nbconvert_exporter": "python",
   "pygments_lexer": "ipython3",
   "version": "3.8.18"
  }
 },
 "nbformat": 4,
 "nbformat_minor": 5
}
